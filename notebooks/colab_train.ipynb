{
  "nbformat": 4,
  "nbformat_minor": 5,
  "metadata": {
    "kernelspec": {
      "display_name": "Python 3",
      "language": "python",
      "name": "python3"
    },
    "language_info": {
      "codemirror_mode": {
        "name": "ipython",
        "version": 3
      },
      "file_extension": ".py",
      "mimetype": "text/x-python",
      "name": "python",
      "nbconvert_exporter": "python",
      "pygments_lexer": "ipython3",
      "version": "3.8.6"
    },
    "colab": {
      "name": "train.ipynb",
      "provenance": [],
      "include_colab_link": true
    }
  },
  "cells": [
    {
      "cell_type": "markdown",
      "metadata": {
        "id": "view-in-github",
        "colab_type": "text"
      },
      "source": [
        "<a href=\"https://colab.research.google.com/github/dric2018/zindi-yield-pred/blob/main/notebooks/colab_train.ipynb\" target=\"_parent\"><img src=\"https://colab.research.google.com/assets/colab-badge.svg\" alt=\"Open In Colab\"/></a>"
      ]
    },
    {
      "cell_type": "code",
      "metadata": {
        "colab": {
          "base_uri": "https://localhost:8080/"
        },
        "id": "bpPNNYX65hcn",
        "outputId": "25eddab7-1c46-4df2-fbfd-232f2d995891"
      },
      "source": [
        "from google.colab import drive\n",
        "drive.mount('/content/drive')"
      ],
      "id": "bpPNNYX65hcn",
      "execution_count": 1,
      "outputs": [
        {
          "output_type": "stream",
          "text": [
            "Mounted at /content/drive\n"
          ],
          "name": "stdout"
        }
      ]
    },
    {
      "cell_type": "code",
      "metadata": {
        "id": "_j-VgDDj6H5j"
      },
      "source": [
        "! mkdir  models submissions data src"
      ],
      "id": "_j-VgDDj6H5j",
      "execution_count": 2,
      "outputs": []
    },
    {
      "cell_type": "code",
      "metadata": {
        "id": "rXm_JuBu6IBP"
      },
      "source": [
        "! cp -r /content/drive/MyDrive/zindi-CGIAR-wheat-challenge/* /content/data/"
      ],
      "id": "rXm_JuBu6IBP",
      "execution_count": 3,
      "outputs": []
    },
    {
      "cell_type": "code",
      "metadata": {
        "id": "Ty9bir7V9XOk"
      },
      "source": [
        "! unzip -q /content/data/image_arrays_train.zip -d /content/data/\n",
        "! unzip -q /content/data/image_arrays_test.zip -d /content/data/"
      ],
      "id": "Ty9bir7V9XOk",
      "execution_count": 7,
      "outputs": []
    },
    {
      "cell_type": "code",
      "metadata": {
        "id": "cKUFTanK6IGk"
      },
      "source": [
        "%%capture\n",
        "! pip install -r /content/data/requirements.txt"
      ],
      "id": "cKUFTanK6IGk",
      "execution_count": 9,
      "outputs": []
    },
    {
      "cell_type": "markdown",
      "metadata": {
        "id": "lonely-salvation"
      },
      "source": [
        "# Import libraries"
      ],
      "id": "lonely-salvation"
    },
    {
      "cell_type": "code",
      "metadata": {
        "colab": {
          "base_uri": "https://localhost:8080/"
        },
        "id": "HahnaLg-7DEi",
        "outputId": "7c91d3d4-88bc-44c2-de7b-a496d87b4ba4"
      },
      "source": [
        "%%writefile /content/src/config.py\n",
        "\n",
        "import os\n",
        "\n",
        "\n",
        "class Config:\n",
        "    data_dir = os.path.abspath('/content/data')\n",
        "    train_data_dir = os.path.join(data_dir, 'image_arrays_train')\n",
        "    test_data_dir = os.path.join(data_dir, 'image_arrays_test')\n",
        "    submissions_dir = os.path.join(data_dir, '../' 'submissions')\n",
        "    models_dir = os.path.join(data_dir, '../', 'models')\n",
        "    bands_of_interest = ['S2_B5', 'S2_B4', 'S2_B3', 'S2_B2', 'CLIM_pr', 'CLIM_soil']\n",
        "    band_names = [l.strip() for l in open(os.path.join(data_dir, 'bandnames.txt'), 'r').readlines()]\n",
        "    base_model = 'catboost'\n",
        "    lr = 1e-2\n",
        "\n"
      ],
      "id": "HahnaLg-7DEi",
      "execution_count": 10,
      "outputs": [
        {
          "output_type": "stream",
          "text": [
            "Writing /content/src/config.py\n"
          ],
          "name": "stdout"
        }
      ]
    },
    {
      "cell_type": "code",
      "metadata": {
        "colab": {
          "base_uri": "https://localhost:8080/"
        },
        "id": "7BjjH4u-7DI9",
        "outputId": "93a2ad20-ea39-4b88-a50b-b8a014a07959"
      },
      "source": [
        "%%writefile /content/src/utils.py\n",
        "\n",
        "\n",
        "\n",
        "# acknowledgement : The code base is from the starter nb released by Johno W.\n",
        "# starter code link :\n",
        "# https://zindi.africa/competitions/cgiar-crop-yield-prediction-challenge/data/Starter_Notebook_CGIAR_Yield_Estimation.ipynb\n",
        "\n",
        "import numpy as np\n",
        "import os\n",
        "import pandas as pd\n",
        "from matplotlib import pyplot as plt\n",
        "from .config import Config\n",
        "\n",
        "\n",
        "def process_im(fid, folder=Config.train_data_dir):\n",
        "    fn = f'{folder}/{fid}.npy'\n",
        "    arr = np.load(fn)\n",
        "    Config.bands_of_interest\n",
        "    values = {}\n",
        "    for month in range(12):\n",
        "        # Bands of interest for this month\n",
        "        bns = [str(month) + '_' + b for b in Config.bands_of_interest]\n",
        "        # Index of these bands\n",
        "        idxs = np.where(np.isin(Config.band_names, bns))\n",
        "        vs = arr[idxs, 20, 20]  # Sample the im at the center point\n",
        "        for bn, v in zip(bns, vs[0]):\n",
        "            values[bn] = v\n",
        "    return values\n",
        "\n",
        "\n",
        "def show_samples(df: pd.DataFrame, data_dir: str):\n",
        "    # Look at a sample:\n",
        "    fid = df['Field_ID'].sample().values[0]\n",
        "    fn = os.path.join(data_dir, f'{fid}.npy')  # File name based on Field_ID\n",
        "    print(f'Loading {fn} as an array')\n",
        "    arr = np.load(fn)  # Loading the data with numpy\n",
        "    print('Array shape:', arr.shape)  # 360 bands, images 40 or 41px a side\n",
        "    # Combine three bands for viewing\n",
        "    rgb_jan = np.stack([arr[4], arr[3], arr[2]], axis=-1)\n",
        "    # Scale band values to (0, 1) for easy image display\n",
        "    rgb_jan = rgb_jan / np.max(rgb_jan)\n",
        "    plt.imshow(rgb_jan)  # View with matplotlib\n",
        "\n",
        "    return arr\n",
        "\n",
        "\n",
        "def save_model(model_name, model, params: dict = None):\n",
        "    path = os.path.join(Config.models_dir, model_name)\n",
        "    try:\n",
        "        model.save_model(fname=path, format='cbm', export_parameters=params)\n",
        "        # print(f'[INFO] model saved as {path}')\n",
        "        return path\n",
        "\n",
        "    except Exception as ex:\n",
        "        print(f\"[ERROR] {ex}\")\n"
      ],
      "id": "7BjjH4u-7DI9",
      "execution_count": 11,
      "outputs": [
        {
          "output_type": "stream",
          "text": [
            "Writing /content/src/utils.py\n"
          ],
          "name": "stdout"
        }
      ]
    },
    {
      "cell_type": "code",
      "metadata": {
        "id": "consecutive-spanking"
      },
      "source": [
        "import pandas as pd\n",
        "import numpy as np\n",
        "import os\n",
        "from matplotlib import pyplot as plt\n",
        "\n",
        "from sklearn.model_selection import train_test_split\n",
        "from sklearn.metrics import mean_squared_error\n",
        "\n",
        "# config setup for fast experiment\n",
        "from src.config import Config\n",
        "\n",
        "# some utilities\n",
        "from src.utils import show_samples, process_im, save_model\n",
        "\n",
        "# boosting lib \n",
        "import catboost \n",
        "\n",
        "import warnings\n",
        "warnings.filterwarnings(action='ignore')"
      ],
      "id": "consecutive-spanking",
      "execution_count": 12,
      "outputs": []
    },
    {
      "cell_type": "code",
      "metadata": {
        "id": "8k4ssF57Bpbk",
        "outputId": "8ce9ea06-c967-4243-c15e-44c86ef37f04",
        "colab": {
          "base_uri": "https://localhost:8080/",
          "height": 224
        }
      },
      "source": [
        "# Train.csv has the Field_IDs needed to find the npy files\n",
        "train = pd.read_csv(os.path.join(Config.data_dir, 'Train.csv'))\n",
        "print(train.shape)\n",
        "train.head()"
      ],
      "id": "8k4ssF57Bpbk",
      "execution_count": 13,
      "outputs": [
        {
          "output_type": "stream",
          "text": [
            "(2977, 4)\n"
          ],
          "name": "stdout"
        },
        {
          "output_type": "execute_result",
          "data": {
            "text/html": [
              "<div>\n",
              "<style scoped>\n",
              "    .dataframe tbody tr th:only-of-type {\n",
              "        vertical-align: middle;\n",
              "    }\n",
              "\n",
              "    .dataframe tbody tr th {\n",
              "        vertical-align: top;\n",
              "    }\n",
              "\n",
              "    .dataframe thead th {\n",
              "        text-align: right;\n",
              "    }\n",
              "</style>\n",
              "<table border=\"1\" class=\"dataframe\">\n",
              "  <thead>\n",
              "    <tr style=\"text-align: right;\">\n",
              "      <th></th>\n",
              "      <th>Field_ID</th>\n",
              "      <th>Year</th>\n",
              "      <th>Quality</th>\n",
              "      <th>Yield</th>\n",
              "    </tr>\n",
              "  </thead>\n",
              "  <tbody>\n",
              "    <tr>\n",
              "      <th>0</th>\n",
              "      <td>MH2O0YH</td>\n",
              "      <td>2019</td>\n",
              "      <td>3</td>\n",
              "      <td>3.686</td>\n",
              "    </tr>\n",
              "    <tr>\n",
              "      <th>1</th>\n",
              "      <td>O9TURWL</td>\n",
              "      <td>2019</td>\n",
              "      <td>2</td>\n",
              "      <td>5.657</td>\n",
              "    </tr>\n",
              "    <tr>\n",
              "      <th>2</th>\n",
              "      <td>35AFSDD</td>\n",
              "      <td>2019</td>\n",
              "      <td>3</td>\n",
              "      <td>3.082</td>\n",
              "    </tr>\n",
              "    <tr>\n",
              "      <th>3</th>\n",
              "      <td>PM05EG9</td>\n",
              "      <td>2019</td>\n",
              "      <td>2</td>\n",
              "      <td>2.707</td>\n",
              "    </tr>\n",
              "    <tr>\n",
              "      <th>4</th>\n",
              "      <td>V7PZBCG</td>\n",
              "      <td>2019</td>\n",
              "      <td>2</td>\n",
              "      <td>2.679</td>\n",
              "    </tr>\n",
              "  </tbody>\n",
              "</table>\n",
              "</div>"
            ],
            "text/plain": [
              "  Field_ID  Year  Quality  Yield\n",
              "0  MH2O0YH  2019        3  3.686\n",
              "1  O9TURWL  2019        2  5.657\n",
              "2  35AFSDD  2019        3  3.082\n",
              "3  PM05EG9  2019        2  2.707\n",
              "4  V7PZBCG  2019        2  2.679"
            ]
          },
          "metadata": {
            "tags": []
          },
          "execution_count": 13
        }
      ]
    },
    {
      "cell_type": "code",
      "metadata": {
        "id": "fnlkaT6HBphv"
      },
      "source": [
        "# Make a new DF with the sampled values from each field \n",
        "train_sampled = pd.DataFrame([process_im(fid) for fid in train['Field_ID'].values])\n",
        "\n",
        "# Add in the field ID and yield\n",
        "train_sampled['Field_ID'] = train['Field_ID'].values\n",
        "train_sampled['Yield'] = train['Yield'].values\n",
        "\n",
        "\n",
        "\n",
        "# save train_sampled dataframe\n",
        "train_sampled.to_csv(os.path.join(Config.data_dir, 'train_sampled.csv'), index=False)\n",
        "\n",
        "# show data\n",
        "train_sampled.head()\n"
      ],
      "id": "fnlkaT6HBphv",
      "execution_count": null,
      "outputs": []
    },
    {
      "cell_type": "code",
      "metadata": {
        "id": "CZ5oB1-_Bpkv"
      },
      "source": [
        "# save test_sampled dataframe\n",
        "ss = pd.read_csv(os.path.join(Config.data_dir, 'SampleSubmission.csv'))\n",
        "\n",
        "test_sampled = pd.DataFrame([process_im(fid, folder=os.path.join(Config.data_dir, 'image_arrays_test')) for fid in ss['Field_ID'].values])\n",
        "test_sampled.to_csv(os.path.join(Config.data_dir, 'test_sampled.csv'), index=False)\n",
        "\n"
      ],
      "id": "CZ5oB1-_Bpkv",
      "execution_count": null,
      "outputs": []
    },
    {
      "cell_type": "markdown",
      "metadata": {
        "id": "substantial-bowling"
      },
      "source": [
        "# Set up experiment pipeline"
      ],
      "id": "substantial-bowling"
    },
    {
      "cell_type": "code",
      "metadata": {
        "id": "lesbian-pickup"
      },
      "source": [
        "seed_val = 2021\n",
        "np.random.seed(seed = seed_val)"
      ],
      "id": "lesbian-pickup",
      "execution_count": null,
      "outputs": []
    },
    {
      "cell_type": "markdown",
      "metadata": {
        "id": "serial-stone"
      },
      "source": [
        "# Loading data"
      ],
      "id": "serial-stone"
    },
    {
      "cell_type": "code",
      "metadata": {
        "id": "civic-blind"
      },
      "source": [
        "# Split the data\n",
        "train_sampled = pd.read_csv(os.path.join(Config.data_dir, 'train_sampled.csv'))\n",
        "X, y  = train_sampled[train_sampled.columns[:-2]], train_sampled['Yield']\n",
        "X_train, X_val, y_train, y_val = train_test_split(X, y)"
      ],
      "id": "civic-blind",
      "execution_count": null,
      "outputs": []
    },
    {
      "cell_type": "markdown",
      "metadata": {
        "id": "liquid-checkout"
      },
      "source": [
        "# Modeling"
      ],
      "id": "liquid-checkout"
    },
    {
      "cell_type": "code",
      "metadata": {
        "scrolled": true,
        "id": "median-military"
      },
      "source": [
        "model = catboost.CatBoostRegressor(\n",
        "    learning_rate = Config.lr,\n",
        "    random_seed=seed_val,\n",
        "    \n",
        ")"
      ],
      "id": "median-military",
      "execution_count": null,
      "outputs": []
    },
    {
      "cell_type": "markdown",
      "metadata": {
        "id": "inappropriate-practice"
      },
      "source": [
        "# Fit the model\n"
      ],
      "id": "inappropriate-practice"
    },
    {
      "cell_type": "code",
      "metadata": {
        "scrolled": true,
        "id": "fuzzy-roads"
      },
      "source": [
        "model = model.fit(\n",
        "    X=X_train,\n",
        "    y=y_train,\n",
        "    eval_set=[(X_val, y_val)], \n",
        "    # eval_metric='rmse',\n",
        "    early_stopping_rounds=300\n",
        ")"
      ],
      "id": "fuzzy-roads",
      "execution_count": null,
      "outputs": []
    },
    {
      "cell_type": "code",
      "metadata": {
        "id": "communist-cycle"
      },
      "source": [
        "print('Score:', mean_squared_error(y_val, model.predict(X_val), squared=False))"
      ],
      "id": "communist-cycle",
      "execution_count": null,
      "outputs": []
    },
    {
      "cell_type": "code",
      "metadata": {
        "id": "radio-labor"
      },
      "source": [
        "model_path = save_model(\n",
        "    model_name=os.path.join(Config.models_dir, 'yield_predictor.cbm'),\n",
        "    model = model\n",
        ")"
      ],
      "id": "radio-labor",
      "execution_count": null,
      "outputs": []
    },
    {
      "cell_type": "markdown",
      "metadata": {
        "id": "three-looking"
      },
      "source": [
        "# Make predictions"
      ],
      "id": "three-looking"
    },
    {
      "cell_type": "code",
      "metadata": {
        "id": "subtle-thriller"
      },
      "source": [
        "# Load the sample submission file\n",
        "ss = pd.read_csv(os.path.join(Config.data_dir, 'SampleSubmission.csv'))\n",
        "\n",
        "# Prep the data, using the same method we did for train\n",
        "test_sampled = pd.read_csv(os.path.join(Config.data_dir, 'test_sampled.csv'))\n",
        "\n",
        "trained_model = model.load_model(\n",
        "    fname=model_path \n",
        ")\n",
        "# Get model predictions\n",
        "preds = trained_model.predict(test_sampled)\n",
        "\n",
        "\n",
        "# Store them in the submission dataframe and save\n",
        "ss['Yield'] = preds\n",
        "filename = f'{Config.base_model}_lr_{Config.lr}.csv'\n",
        "ss.to_csv(os.path.join(Config.submissions_dir, filename), index=False)\n",
        "ss.head()"
      ],
      "id": "subtle-thriller",
      "execution_count": null,
      "outputs": []
    },
    {
      "cell_type": "code",
      "metadata": {
        "id": "suffering-emerald"
      },
      "source": [
        "ss.shape"
      ],
      "id": "suffering-emerald",
      "execution_count": null,
      "outputs": []
    }
  ]
}